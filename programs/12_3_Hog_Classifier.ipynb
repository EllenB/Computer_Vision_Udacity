{
 "cells": [
  {
   "cell_type": "code",
   "execution_count": 2,
   "metadata": {
    "collapsed": true
   },
   "outputs": [],
   "source": [
    "# Copyright 2017 BIG VISION LLC ALL RIGHTS RESERVED\n",
    "# \n",
    "# This code is made available to the students of \n",
    "# the online course titled \"OpenCV for Beginners\" \n",
    "# by Satya Mallick for personal non-commercial use. \n",
    "#\n",
    "# Sharing this code is strictly prohibited without written\n",
    "# permission from Big Vision LLC. \n",
    "#\n",
    "# For licensing and other inquiries, please email \n",
    "# spmallick@bigvisionllc.com \n",
    "#\n",
    "\n",
    "import cv2\n",
    "\n",
    "import numpy as np\n",
    "\n",
    "SZ = 20\n",
    "CLASS_N = 10\n",
    "\n",
    "# local modules\n",
    "from common import clock, mosaic"
   ]
  },
  {
   "cell_type": "code",
   "execution_count": 2,
   "metadata": {
    "collapsed": true
   },
   "outputs": [],
   "source": [
    "def split2d(img, cell_size, flatten=True):\n",
    "    h, w = img.shape[:2]\n",
    "    sx, sy = cell_size\n",
    "    cells = [np.hsplit(row, w//sx) for row in np.vsplit(img, h//sy)]\n",
    "    cells = np.array(cells)\n",
    "    if flatten:\n",
    "        cells = cells.reshape(-1, sy, sx)\n",
    "    return cells\n"
   ]
  },
  {
   "cell_type": "code",
   "execution_count": 3,
   "metadata": {
    "collapsed": true
   },
   "outputs": [],
   "source": [
    "def load_digits(fn):\n",
    "    digits_img = cv2.imread(fn, 0)\n",
    "    digits = split2d(digits_img, (SZ, SZ))\n",
    "    labels = np.repeat(np.arange(CLASS_N), len(digits)/CLASS_N)\n",
    "    return digits, labels"
   ]
  },
  {
   "cell_type": "code",
   "execution_count": 4,
   "metadata": {
    "collapsed": true
   },
   "outputs": [],
   "source": [
    "def deskew(img):\n",
    "    m = cv2.moments(img)\n",
    "    if abs(m['mu02']) < 1e-2:\n",
    "        return img.copy()\n",
    "    skew = m['mu11']/m['mu02']\n",
    "    M = np.float32([[1, skew, -0.5*SZ*skew], [0, 1, 0]])\n",
    "    img = cv2.warpAffine(img, M, (SZ, SZ), flags=cv2.WARP_INVERSE_MAP | cv2.INTER_LINEAR)\n",
    "    return img"
   ]
  },
  {
   "cell_type": "code",
   "execution_count": 5,
   "metadata": {
    "collapsed": true
   },
   "outputs": [],
   "source": [
    "def deskew(img):\n",
    "    m = cv2.moments(img)\n",
    "    if abs(m['mu02']) < 1e-2:\n",
    "        return img.copy()\n",
    "    skew = m['mu11']/m['mu02']\n",
    "    M = np.float32([[1, skew, -0.5*SZ*skew], [0, 1, 0]])\n",
    "    img = cv2.warpAffine(img, M, (SZ, SZ), flags=cv2.WARP_INVERSE_MAP | cv2.INTER_LINEAR)\n",
    "    return img"
   ]
  },
  {
   "cell_type": "code",
   "execution_count": 6,
   "metadata": {
    "collapsed": true
   },
   "outputs": [],
   "source": [
    "def svmInit(C=12.5, gamma=0.50625):\n",
    "  model = cv2.ml.SVM_create()\n",
    "  model.setGamma(gamma)\n",
    "  model.setC(C)\n",
    "  model.setKernel(cv2.ml.SVM_RBF)\n",
    "  model.setType(cv2.ml.SVM_C_SVC)\n",
    "  \n",
    "  return model\n",
    "\n"
   ]
  },
  {
   "cell_type": "code",
   "execution_count": 7,
   "metadata": {
    "collapsed": true
   },
   "outputs": [],
   "source": [
    "def svmTrain(model, samples, responses):\n",
    "  model.train(samples, cv2.ml.ROW_SAMPLE, responses)\n",
    "  return model\n"
   ]
  },
  {
   "cell_type": "code",
   "execution_count": 8,
   "metadata": {
    "collapsed": true
   },
   "outputs": [],
   "source": [
    "def svmPredict(model, samples):\n",
    "  return model.predict(samples)[1].ravel()\n",
    "\n"
   ]
  },
  {
   "cell_type": "code",
   "execution_count": 9,
   "metadata": {
    "collapsed": true
   },
   "outputs": [],
   "source": [
    "def svmEvaluate(model, digits, samples, labels):\n",
    "    predictions = svmPredict(model, samples)\n",
    "    accuracy = (labels == predictions).mean()\n",
    "    print('Percentage Accuracy: %.2f %%' % (accuracy*100))\n",
    "\n",
    "    confusion = np.zeros((10, 10), np.int32)\n",
    "    for i, j in zip(labels, predictions):\n",
    "        confusion[int(i), int(j)] += 1\n",
    "    print('confusion matrix:')\n",
    "    print(confusion)\n",
    "\n",
    "    vis = []\n",
    "    for img, flag in zip(digits, predictions == labels):\n",
    "        img = cv2.cvtColor(img, cv2.COLOR_GRAY2BGR)\n",
    "        if not flag:\n",
    "            img[...,:2] = 0\n",
    "        \n",
    "        vis.append(img)\n",
    "    return mosaic(25, vis)"
   ]
  },
  {
   "cell_type": "code",
   "execution_count": 10,
   "metadata": {
    "collapsed": true
   },
   "outputs": [],
   "source": [
    "def preprocess_simple(digits):\n",
    "    return np.float32(digits).reshape(-1, SZ*SZ) / 255.0"
   ]
  },
  {
   "cell_type": "code",
   "execution_count": 11,
   "metadata": {
    "collapsed": true
   },
   "outputs": [],
   "source": [
    "def get_hog() : \n",
    "    winSize = (20,20)\n",
    "    blockSize = (8,8)\n",
    "    blockStride = (4,4)\n",
    "    cellSize = (8,8)\n",
    "    nbins = 9\n",
    "    derivAperture = 1\n",
    "    winSigma = -1.\n",
    "    histogramNormType = 0\n",
    "    L2HysThreshold = 0.2\n",
    "    gammaCorrection = 1\n",
    "    nlevels = 64\n",
    "    signedGradient = True\n",
    "\n",
    "    hog = cv2.HOGDescriptor(winSize,blockSize,blockStride,cellSize,nbins,derivAperture,winSigma,histogramNormType,L2HysThreshold,gammaCorrection,nlevels, signedGradient)\n",
    "\n",
    "    return hog\n",
    "    affine_flags = cv2.WARP_INVERSE_MAP|cv2.INTER_LINEAR"
   ]
  },
  {
   "cell_type": "code",
   "execution_count": 1,
   "metadata": {},
   "outputs": [
    {
     "name": "stdout",
     "output_type": "stream",
     "text": [
      "Loading digits from digits.png ... \n"
     ]
    },
    {
     "ename": "NameError",
     "evalue": "name 'load_digits' is not defined",
     "output_type": "error",
     "traceback": [
      "\u001b[1;31m---------------------------------------------------------------------------\u001b[0m",
      "\u001b[1;31mNameError\u001b[0m                                 Traceback (most recent call last)",
      "\u001b[1;32m<ipython-input-1-ed681d19d1df>\u001b[0m in \u001b[0;36m<module>\u001b[1;34m()\u001b[0m\n\u001b[0;32m      3\u001b[0m     \u001b[0mprint\u001b[0m\u001b[1;33m(\u001b[0m\u001b[1;34m'Loading digits from digits.png ... '\u001b[0m\u001b[1;33m)\u001b[0m\u001b[1;33m\u001b[0m\u001b[0m\n\u001b[0;32m      4\u001b[0m     \u001b[1;31m# Load data.\u001b[0m\u001b[1;33m\u001b[0m\u001b[1;33m\u001b[0m\u001b[0m\n\u001b[1;32m----> 5\u001b[1;33m     \u001b[0mdigits\u001b[0m\u001b[1;33m,\u001b[0m \u001b[0mlabels\u001b[0m \u001b[1;33m=\u001b[0m \u001b[0mload_digits\u001b[0m\u001b[1;33m(\u001b[0m\u001b[1;34m'C:\\\\Ellen\\\\Udacity\\\\Computer_Vision\\\\data\\\\DIGITS\\\\digits.png'\u001b[0m\u001b[1;33m)\u001b[0m\u001b[1;33m\u001b[0m\u001b[0m\n\u001b[0m\u001b[0;32m      6\u001b[0m \u001b[1;33m\u001b[0m\u001b[0m\n\u001b[0;32m      7\u001b[0m     \u001b[0mprint\u001b[0m\u001b[1;33m(\u001b[0m\u001b[1;34m'Shuffle data ... '\u001b[0m\u001b[1;33m)\u001b[0m\u001b[1;33m\u001b[0m\u001b[0m\n",
      "\u001b[1;31mNameError\u001b[0m: name 'load_digits' is not defined"
     ]
    }
   ],
   "source": [
    "if __name__ == '__main__':\n",
    "\n",
    "    print('Loading digits from digits.png ... ')\n",
    "    # Load data.\n",
    "    digits, labels = load_digits('C:\\\\Ellen\\\\Udacity\\\\Computer_Vision\\\\data\\\\DIGITS\\\\digits.png')\n",
    "\n",
    "    print('Shuffle data ... ')\n",
    "    # Shuffle data\n",
    "    rand = np.random.RandomState(10)\n",
    "    shuffle = rand.permutation(len(digits))\n",
    "    digits, labels = digits[shuffle], labels[shuffle]\n",
    "    \n",
    "    print('Deskew images ... ')\n",
    "    digits_deskewed = list(map(deskew, digits))\n",
    "    \n",
    "    print('Defining HoG parameters ...')\n",
    "    ##HoG feature descriptor\n",
    "    hog = get_hog()\n",
    "\n",
    "    print('Calculating HoG descriptor for every image ... ')\n",
    "    hog_descriptors = []\n",
    "    for img in digits_deskewed:\n",
    "        hog_descriptors.append(hog.compute(img))\n",
    "    hog_descriptors = np.squeeze(hog_descriptors)\n",
    "\n",
    "    print('Spliting data into training (90%) and test set (10%)... ')\n",
    "    train_n=int(0.9*len(hog_descriptors))\n",
    "    digits_train, digits_test = np.split(digits_deskewed, [train_n])\n",
    "    hog_descriptors_train, hog_descriptors_test = np.split(hog_descriptors, [train_n])\n",
    "    labels_train, labels_test = np.split(labels, [train_n])\n",
    "    \n",
    "    \n",
    "    print('Training SVM model ...')\n",
    "    model = svmInit()\n",
    "    svmTrain(model, hog_descriptors_train, labels_train)\n",
    "\n",
    "    print('Evaluating model ... ')\n",
    "    vis = svmEvaluate(model, digits_test, hog_descriptors_test, labels_test)\n",
    "\n",
    "    cv2.imwrite(\"digits-classification.jpg\",vis)\n",
    "    cv2.imshow(\"Vis\", vis)\n",
    "    ##cv2.waitKey(0)\n",
    "    ##cv2.destroyAllWindows()"
   ]
  },
  {
   "cell_type": "code",
   "execution_count": null,
   "metadata": {
    "collapsed": true
   },
   "outputs": [],
   "source": []
  }
 ],
 "metadata": {
  "kernelspec": {
   "display_name": "Python 3",
   "language": "python",
   "name": "python3"
  },
  "language_info": {
   "codemirror_mode": {
    "name": "ipython",
    "version": 3
   },
   "file_extension": ".py",
   "mimetype": "text/x-python",
   "name": "python",
   "nbconvert_exporter": "python",
   "pygments_lexer": "ipython3",
   "version": "3.6.3"
  }
 },
 "nbformat": 4,
 "nbformat_minor": 2
}
