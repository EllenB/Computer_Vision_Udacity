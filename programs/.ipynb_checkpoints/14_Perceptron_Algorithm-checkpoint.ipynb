{
 "cells": [
  {
   "cell_type": "markdown",
   "metadata": {},
   "source": [
    "In this exercise, the data are read into Excel and then split the columns. We do so using the following link: https://www.extendoffice.com/documents/excel/1786-excel-split-text-by-space.html"
   ]
  },
  {
   "cell_type": "code",
   "execution_count": 83,
   "metadata": {
    "collapsed": true
   },
   "outputs": [],
   "source": [
    "import numpy as np\n",
    "# Setting the random seed, feel free to change it and see different solutions.\n",
    "np.random.seed(42)"
   ]
  },
  {
   "cell_type": "markdown",
   "metadata": {},
   "source": [
    "## Reading in the data"
   ]
  },
  {
   "cell_type": "code",
   "execution_count": 84,
   "metadata": {
    "collapsed": true
   },
   "outputs": [],
   "source": [
    "filehandle = 'C:\\\\Ellen\\\\Udacity\\\\Computer_Vision\\\\data\\\\DL_Data\\\\data.csv'"
   ]
  },
  {
   "cell_type": "code",
   "execution_count": 85,
   "metadata": {},
   "outputs": [
    {
     "name": "stdout",
     "output_type": "stream",
     "text": [
      "(100, 3)\n"
     ]
    }
   ],
   "source": [
    "data=np.loadtxt(filehandle,skiprows=0,delimiter=\",\")\n",
    "#print(data)\n",
    "print(data.shape) # 100, 3"
   ]
  },
  {
   "cell_type": "code",
   "execution_count": 86,
   "metadata": {},
   "outputs": [
    {
     "name": "stdout",
     "output_type": "stream",
     "text": [
      "(100, 2)\n"
     ]
    }
   ],
   "source": [
    "X = data[:,0:2]\n",
    "#X\n",
    "print(X.shape)\n",
    "Y = data[:,2:4]\n",
    "#Y"
   ]
  },
  {
   "cell_type": "markdown",
   "metadata": {},
   "source": [
    "## Actual functions"
   ]
  },
  {
   "cell_type": "code",
   "execution_count": 87,
   "metadata": {
    "collapsed": true
   },
   "outputs": [],
   "source": [
    "def stepFunction(t):\n",
    "    if t >= 0:\n",
    "        return 1\n",
    "    return 0"
   ]
  },
  {
   "cell_type": "code",
   "execution_count": 88,
   "metadata": {
    "collapsed": true
   },
   "outputs": [],
   "source": [
    "def prediction(X, W, b):\n",
    "    return stepFunction((np.matmul(X,W)+b)[0])"
   ]
  },
  {
   "cell_type": "code",
   "execution_count": 89,
   "metadata": {
    "collapsed": true
   },
   "outputs": [],
   "source": [
    "# TODO: Fill in the code below to implement the perceptron trick.\n",
    "# The function should receive as inputs the data X, the labels y,\n",
    "# the weights W (as an array), and the bias b,\n",
    "# update the weights and bias W, b, according to the perceptron algorithm,\n",
    "# and return W and b.\n",
    "\n",
    "def perceptronStep(X, y, W, b, learn_rate = 0.01):\n",
    "    def perceptronStep(X, y, W, b, learn_rate = 0.01):\n",
    "    for i in range(len(X)):\n",
    "        y_hat = prediction(X[i],W,b)\n",
    "        if y[i]-y_hat == 1:\n",
    "            W[0] += X[i][0]*learn_rate\n",
    "            W[1] += X[i][1]*learn_rate\n",
    "            b += learn_rate\n",
    "        elif y[i]-y_hat == -1:\n",
    "            W[0] -= X[i][0]*learn_rate\n",
    "            W[1] -= X[i][1]*learn_rate\n",
    "            b -= learn_rate\n",
    "    return W, b\n",
    "    "
   ]
  },
  {
   "cell_type": "code",
   "execution_count": 90,
   "metadata": {
    "collapsed": true
   },
   "outputs": [],
   "source": [
    "#len(X) #100"
   ]
  },
  {
   "cell_type": "code",
   "execution_count": 91,
   "metadata": {
    "collapsed": true
   },
   "outputs": [],
   "source": [
    "#y_hat = prediction(X[0],W,b)\n",
    "#print(y_hat) #1"
   ]
  },
  {
   "cell_type": "code",
   "execution_count": 92,
   "metadata": {
    "collapsed": true
   },
   "outputs": [],
   "source": [
    "#print(X[0])\n",
    "#print(X[0][0])\n",
    "#print(X[0][1])"
   ]
  },
  {
   "cell_type": "code",
   "execution_count": 93,
   "metadata": {
    "collapsed": true
   },
   "outputs": [],
   "source": [
    "# This function runs the perceptron algorithm repeatedly on the dataset,\n",
    "# and returns a few of the boundary lines obtained in the iterations,\n",
    "# for plotting purposes.\n",
    "# Feel free to play with the learning rate and the num_epochs,\n",
    "# and see your results plotted below.\n",
    "def trainPerceptronAlgorithm(X, y, learn_rate = 0.01, num_epochs = 25):\n",
    "    x_min, x_max = min(X.T[0]), max(X.T[0])\n",
    "    y_min, y_max = min(X.T[1]), max(X.T[1])\n",
    "    W = np.array(np.random.rand(2,1))\n",
    "    b = np.random.rand(1)[0] + x_max\n",
    "    # These are the solution lines that get plotted below.\n",
    "    boundary_lines = []\n",
    "    for i in range(num_epochs):\n",
    "        # In each epoch, we apply the perceptron step.\n",
    "        W, b = perceptronStep(X, y, W, b, learn_rate)\n",
    "        boundary_lines.append((-W[0]/W[1], -b/W[1]))\n",
    "    return boundary_lines"
   ]
  },
  {
   "cell_type": "code",
   "execution_count": 94,
   "metadata": {},
   "outputs": [
    {
     "data": {
      "text/plain": [
       "[(array([-0.05239463]), array([-2.04919443])),\n",
       " (array([ 1.23772563]), array([-2.90815949])),\n",
       " (array([-39.47663703]), array([ 23.57864461])),\n",
       " (array([-13.13237331]), array([ 7.06473087])),\n",
       " (array([-9.11612538]), array([ 4.57527519])),\n",
       " (array([-7.79056954]), array([ 3.96940892])),\n",
       " (array([-6.7750263]), array([ 3.50523881])),\n",
       " (array([-5.97212608]), array([ 3.13826056])),\n",
       " (array([-5.32141098]), array([ 2.84084093])),\n",
       " (array([-4.78335796]), array([ 2.59491529])),\n",
       " (array([-4.33103935]), array([ 2.38817591])),\n",
       " (array([-4.09146109]), array([ 2.3928177])),\n",
       " (array([-3.80251597]), array([ 2.25914697])),\n",
       " (array([-3.54414571]), array([ 2.13962066])),\n",
       " (array([-3.31174122]), array([ 2.03210655])),\n",
       " (array([-3.10157551]), array([ 1.93488045])),\n",
       " (array([-2.91060228]), array([ 1.84653311])),\n",
       " (array([-2.73630733]), array([ 1.76590142])),\n",
       " (array([-2.57659722]), array([ 1.69201691])),\n",
       " (array([-2.4297148]), array([ 1.6240667])),\n",
       " (array([-2.29417429]), array([ 1.56136344])),\n",
       " (array([-2.16871083]), array([ 1.50332199])),\n",
       " (array([-2.05224089]), array([ 1.4494411])),\n",
       " (array([-1.94383093]), array([ 1.39928887])),\n",
       " (array([-1.84267226]), array([ 1.35249122]))]"
      ]
     },
     "execution_count": 94,
     "metadata": {},
     "output_type": "execute_result"
    }
   ],
   "source": [
    "trainPerceptronAlgorithm(X, y, learn_rate = 0.01, num_epochs = 25)"
   ]
  },
  {
   "cell_type": "markdown",
   "metadata": {},
   "source": [
    "## Appendix: Alternatives to read in the data"
   ]
  },
  {
   "cell_type": "code",
   "execution_count": 27,
   "metadata": {},
   "outputs": [
    {
     "name": "stdout",
     "output_type": "stream",
     "text": [
      "[0.78051, 0.28774, 0.40714, 0.2923, 0.50922, 0.27785, 0.27527, 0.43999, 0.33557, 0.23448, 0.0084492, 0.12419, 0.25644, 0.4591, 0.44547, 0.42218, 0.49563, 0.30848, 0.39707, 0.32945, 0.40739, 0.3106, 0.49638, 0.10073, 0.69907, 0.29767, 0.15099, 0.16427, 0.33259, 0.53741, 0.19503, 0.40278, 0.21296, 0.48447, 0.25476, 0.21726, 0.67078, 0.3815, 0.53838, 0.4849, 0.37095, 0.54527, 0.32149, 0.42216, 0.10194, 0.15254, 0.45558, 0.28488, 0.27633, 0.39748, 0.5533, 0.44274, 0.85176, 0.60436, 0.68243, 1, 0.72989, 0.67377, 0.78761, 0.71442, 0.49379, 0.78974, 0.67905, 0.6642, 0.79396, 0.70758, 0.59421, 0.49364, 0.77707, 0.79785, 0.70876, 0.69176, 0.66408, 0.65973, 0.64574, 0.89639, 0.85476, 0.62091, 0.79057, 0.58935, 0.56846, 0.65912, 0.70938, 0.59154, 0.45829, 0.79982, 0.60974, 0.68127, 0.76694, 0.69048, 0.68122, 0.73229, 0.76145, 0.58985, 0.73145, 0.77029, 0.73156, 0.44556, 0.85275, 0.51912]\n",
      "100\n",
      "<class 'list'>\n"
     ]
    }
   ],
   "source": [
    "import csv\n",
    "datafile = open(filehandle, 'r')\n",
    "myreader = csv.reader(datafile)\n",
    "\n",
    "x_1 = []                         # makes a list\n",
    "x_2 = []\n",
    "y = []                         # makes a list\n",
    "\n",
    "for row in myreader:\n",
    "    #print(row[0], row[1], row[2])\n",
    "    #print(row[0])\n",
    "    \n",
    "    x_1.append(eval(row[0]))\n",
    "    x_2.append(eval(row[1]))\n",
    "    y.append(eval(row[2]))\n",
    "\n",
    "print(x_1)\n",
    "\n",
    "print(len(y)) # 100\n",
    "\n",
    "print(type(x_1)) # This is a list"
   ]
  },
  {
   "cell_type": "markdown",
   "metadata": {},
   "source": [
    "Define the X and y arrays. First, we check with the type of this matrix is:"
   ]
  },
  {
   "cell_type": "code",
   "execution_count": 35,
   "metadata": {},
   "outputs": [
    {
     "name": "stdout",
     "output_type": "stream",
     "text": [
      "<class 'numpy.ndarray'>\n"
     ]
    }
   ],
   "source": [
    "print(type(data))"
   ]
  },
  {
   "cell_type": "markdown",
   "metadata": {},
   "source": [
    "Alternatively: https://stackoverflow.com/questions/11693935/how-can-i-extract-columns-of-data-from-a-csv-file-and-define-them-as-x-and-y-var"
   ]
  },
  {
   "cell_type": "markdown",
   "metadata": {},
   "source": [
    "https://github.com/llSourcell/linear_regression_live/blob/master/demo.py - "
   ]
  },
  {
   "cell_type": "code",
   "execution_count": 43,
   "metadata": {
    "collapsed": true
   },
   "outputs": [],
   "source": [
    "x_1,x_2,y =  np.loadtxt(filehandle,skiprows=0,delimiter=\",\",  unpack=True)"
   ]
  },
  {
   "cell_type": "code",
   "execution_count": 45,
   "metadata": {},
   "outputs": [
    {
     "name": "stdout",
     "output_type": "stream",
     "text": [
      "(100,)\n"
     ]
    }
   ],
   "source": [
    "print(x_1.shape)"
   ]
  },
  {
   "cell_type": "code",
   "execution_count": 82,
   "metadata": {
    "collapsed": true
   },
   "outputs": [],
   "source": [
    "#X"
   ]
  },
  {
   "cell_type": "code",
   "execution_count": 59,
   "metadata": {},
   "outputs": [
    {
     "data": {
      "text/plain": [
       "array([ 0.78051 , -0.063669])"
      ]
     },
     "execution_count": 59,
     "metadata": {},
     "output_type": "execute_result"
    }
   ],
   "source": [
    "#from numpy import *\n",
    "points = genfromtxt(filehandle, delimiter=\",\")\n",
    "X[0]"
   ]
  },
  {
   "cell_type": "code",
   "execution_count": 47,
   "metadata": {
    "collapsed": true
   },
   "outputs": [],
   "source": [
    "x_min, x_max = min(X.T[0]), max(X.T[0]) # prints the minimum and the maximum of this list"
   ]
  },
  {
   "cell_type": "code",
   "execution_count": 48,
   "metadata": {},
   "outputs": [
    {
     "name": "stdout",
     "output_type": "stream",
     "text": [
      "0.0084492\n",
      "1.0\n"
     ]
    }
   ],
   "source": [
    "print(x_min)\n",
    "print(x_max)"
   ]
  },
  {
   "cell_type": "code",
   "execution_count": 51,
   "metadata": {},
   "outputs": [
    {
     "name": "stdout",
     "output_type": "stream",
     "text": [
      "(100,)\n"
     ]
    }
   ],
   "source": [
    "X_T = X.T[0]\n",
    "print(X_T.shape) # 100 rows"
   ]
  }
 ],
 "metadata": {
  "kernelspec": {
   "display_name": "Python 3",
   "language": "python",
   "name": "python3"
  },
  "language_info": {
   "codemirror_mode": {
    "name": "ipython",
    "version": 3
   },
   "file_extension": ".py",
   "mimetype": "text/x-python",
   "name": "python",
   "nbconvert_exporter": "python",
   "pygments_lexer": "ipython3",
   "version": "3.6.3"
  }
 },
 "nbformat": 4,
 "nbformat_minor": 2
}
