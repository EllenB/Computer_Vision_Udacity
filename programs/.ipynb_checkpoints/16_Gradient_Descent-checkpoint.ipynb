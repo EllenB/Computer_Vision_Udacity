{
 "cells": [
  {
   "cell_type": "markdown",
   "metadata": {},
   "source": [
    "These are using the same data like what we have been using before. "
   ]
  },
  {
   "cell_type": "markdown",
   "metadata": {},
   "source": [
    "https://www.kdnuggets.com/2017/04/simple-understand-gradient-descent-algorithm.html\n",
    "\n",
    "https://machinelearningmastery.com/gradient-descent-for-machine-learning/"
   ]
  },
  {
   "cell_type": "code",
   "execution_count": 4,
   "metadata": {
    "collapsed": true
   },
   "outputs": [],
   "source": [
    "import numpy as np"
   ]
  },
  {
   "cell_type": "code",
   "execution_count": 5,
   "metadata": {
    "collapsed": true
   },
   "outputs": [],
   "source": [
    "filehandle = 'C:\\\\Ellen\\\\Udacity\\\\Computer_Vision\\\\data\\\\DL_Data\\\\data.csv'"
   ]
  },
  {
   "cell_type": "code",
   "execution_count": 6,
   "metadata": {},
   "outputs": [
    {
     "name": "stdout",
     "output_type": "stream",
     "text": [
      "(100, 3)\n"
     ]
    }
   ],
   "source": [
    "data=np.loadtxt(filehandle,skiprows=0,delimiter=\",\")\n",
    "#print(data)\n",
    "print(data.shape) # 100, 3"
   ]
  },
  {
   "cell_type": "code",
   "execution_count": 23,
   "metadata": {},
   "outputs": [
    {
     "name": "stdout",
     "output_type": "stream",
     "text": [
      "(100, 2)\n"
     ]
    }
   ],
   "source": [
    "X = data[:,0:2]\n",
    "#X\n",
    "print(X.shape)\n",
    "y = data[:,2:4]\n",
    "#Y"
   ]
  },
  {
   "cell_type": "code",
   "execution_count": 33,
   "metadata": {
    "collapsed": true
   },
   "outputs": [],
   "source": [
    "import numpy as np\n",
    "# Setting the random seed, feel free to change it and see different solutions.\n",
    "np.random.seed(42)\n",
    "\n",
    "def sigmoid(x): # Sigmoid function\n",
    "    return 1/(1+np.exp(-x))\n",
    "def sigmoid_prime(x): # Derivative of the sigmoid function - see Udacity notes\n",
    "    return sigmoid(x)*(1-sigmoid(x))\n",
    "def prediction(X, W, b):\n",
    "    return sigmoid(np.matmul(X,W)+b)\n",
    "def error_vector(y, y_hat): \n",
    "    return [-y[i]*np.log(y_hat[i]) - (1-y[i])*np.log(1-y_hat[i]) for i in range(len(y))]\n",
    "def error(y, y_hat):\n",
    "    ev = error_vector(y, y_hat)\n",
    "    return sum(ev)/len(ev)"
   ]
  },
  {
   "cell_type": "markdown",
   "metadata": {},
   "source": [
    "This function should receive X and y, and return a list of errors given by the formula for the gradient:\n",
    "$$ −(y− \\hat{y})(x_{1}, ...x_{n})$$"
   ]
  },
  {
   "cell_type": "code",
   "execution_count": 36,
   "metadata": {
    "collapsed": true
   },
   "outputs": [],
   "source": [
    "# TODO: Fill in the code below to calculate the gradient of the error function.\n",
    "# The result should be a list of three lists:\n",
    "# The first list should contain the gradient (partial derivatives) with respect to w1\n",
    "# The second list should contain the gradient (partial derivatives) with respect to w2\n",
    "# The third list should contain the gradient (partial derivatives) with respect to b \n",
    "    \n",
    "def dErrors(X, y, y_hat):\n",
    "    #DerrorsDx1 = -(y-y_hat)*Xi\n",
    "    DErrorsDx1 = [-X[i][0]*(y[i]-y_hat[i]) for i in range(len(y))] # This computes the error function for each line\n",
    "    DErrorsDx2 = [-X[i][1]*(y[i]-y_hat[i]) for i in range(len(y))] \n",
    "    DErrorsDb = [-(y[i]-y_hat[i]) for i in range(len(y))]\n",
    "    return DErrorsDx1, DErrorsDx2, DErrorsDb"
   ]
  },
  {
   "cell_type": "code",
   "execution_count": 37,
   "metadata": {
    "collapsed": true
   },
   "outputs": [],
   "source": [
    "# TODO: Fill in the code below to implement the gradient descent step.\n",
    "# The function should receive as inputs the data X, the labels y,\n",
    "# the weights W (as an array), and the bias b.\n",
    "# It should calculate the prediction, the gradients, and use them to\n",
    "# update the weights and bias W, b. Then return W and b.\n",
    "# The error e will be calculated and returned for you, for plotting purposes.\n",
    "def gradientDescentStep(X, y, W, b, learn_rate = 0.01):\n",
    "    y_hat = prediction(X,W,b)\n",
    "    errors = error_vector(y, y_hat)\n",
    "    derivErrors = dErrors(X, y, y_hat)\n",
    "    W[0] -= sum(derivErrors[0])*learn_rate # See formula Lazy programmer\n",
    "    W[1] -= sum(derivErrors[1])*learn_rate # Same\n",
    "    b -= sum(derivErrors[2])*learn_rate\n",
    "    return W, b, sum(errors)"
   ]
  },
  {
   "cell_type": "code",
   "execution_count": 38,
   "metadata": {
    "collapsed": true
   },
   "outputs": [],
   "source": [
    "# This function runs the perceptron algorithm repeatedly on the dataset,\n",
    "# and returns a few of the boundary lines obtained in the iterations,\n",
    "# for plotting purposes.\n",
    "# Feel free to play with the learning rate and the num_epochs,\n",
    "# and see your results plotted below.\n",
    "def trainLR(X, y, learn_rate = 0.01, num_epochs = 100):\n",
    "    x_min, x_max = min(X.T[0]), max(X.T[0])\n",
    "    y_min, y_max = min(X.T[1]), max(X.T[1])\n",
    "    # Initialize the weights randomly\n",
    "    W = np.array(np.random.rand(2,1))*2 -1\n",
    "    b = np.random.rand(1)[0]*2 - 1\n",
    "    # These are the solution lines that get plotted below.\n",
    "    boundary_lines = []\n",
    "    errors = []\n",
    "    for i in range(num_epochs):\n",
    "        # In each epoch, we apply the gradient descent step.\n",
    "        W, b, error = gradientDescentStep(X, y, W, b, learn_rate)\n",
    "        boundary_lines.append((-W[0]/W[1], -b/W[1]))\n",
    "        errors.append(error)\n",
    "    return boundary_lines, errors"
   ]
  },
  {
   "cell_type": "code",
   "execution_count": 39,
   "metadata": {},
   "outputs": [
    {
     "data": {
      "text/plain": [
       "([(array([ 0.61819151]), array([-0.39014295])),\n",
       "  (array([ 1.02795525]), array([-0.31133603])),\n",
       "  (array([ 1.52309412]), array([-0.29899588])),\n",
       "  (array([ 2.15036792]), array([-0.36924468])),\n",
       "  (array([ 3.01018138]), array([-0.54887429])),\n",
       "  (array([ 4.32500124]), array([-0.9027684])),\n",
       "  (array([ 6.69017386]), array([-1.61750284])),\n",
       "  (array([ 12.42942205]), array([-3.4419656])),\n",
       "  (array([ 48.80781988]), array([-15.22202259])),\n",
       "  (array([-30.64172862]), array([ 10.58683365])),\n",
       "  (array([-12.44748108]), array([ 4.69627049])),\n",
       "  (array([-8.09145274]), array([ 3.29358548])),\n",
       "  (array([-6.13189927]), array([ 2.66599553])),\n",
       "  (array([-5.01638375]), array([ 2.31035844])),\n",
       "  (array([-4.29562258]), array([ 2.08138171])),\n",
       "  (array([-3.79132609]), array([ 1.92157928])),\n",
       "  (array([-3.41860272]), array([ 1.80367222])),\n",
       "  (array([-3.13185796]), array([ 1.7130604])),\n",
       "  (array([-2.90440207]), array([ 1.64122591])),\n",
       "  (array([-2.7195661]), array([ 1.582865])),\n",
       "  (array([-2.5663993]), array([ 1.5345025])),\n",
       "  (array([-2.43740912]), array([ 1.49376588])),\n",
       "  (array([-2.32729507]), array([ 1.45897974])),\n",
       "  (array([-2.23220127]), array([ 1.42892697])),\n",
       "  (array([-2.1492554]), array([ 1.40270193])),\n",
       "  (array([-2.07627377]), array([ 1.37961664])),\n",
       "  (array([-2.01156652]), array([ 1.35913901])),\n",
       "  (array([-1.95380549]), array([ 1.34085102])),\n",
       "  (array([-1.9019323]), array([ 1.32441961])),\n",
       "  (array([-1.85509317]), array([ 1.30957616])),\n",
       "  (array([-1.81259175]), array([ 1.29610158])),\n",
       "  (array([-1.77385442]), array([ 1.28381539])),\n",
       "  (array([-1.73840441]), array([ 1.27256756])),\n",
       "  (array([-1.70584217]), array([ 1.26223236])),\n",
       "  (array([-1.67583036]), array([ 1.25270357])),\n",
       "  (array([-1.64808217]), array([ 1.24389092])),\n",
       "  (array([-1.62235224]), array([ 1.23571711])),\n",
       "  (array([-1.59842941]), array([ 1.22811562])),\n",
       "  (array([-1.57613094]), array([ 1.22102887])),\n",
       "  (array([-1.55529794]), array([ 1.21440677])),\n",
       "  (array([-1.53579156]), array([ 1.20820553])),\n",
       "  (array([-1.51748994]), array([ 1.20238671])),\n",
       "  (array([-1.50028569]), array([ 1.19691642])),\n",
       "  (array([-1.48408379]), array([ 1.19176465])),\n",
       "  (array([-1.4687999]), array([ 1.18690477])),\n",
       "  (array([-1.45435884]), array([ 1.18231303])),\n",
       "  (array([-1.44069345]), array([ 1.17796817])),\n",
       "  (array([-1.42774347]), array([ 1.17385116])),\n",
       "  (array([-1.41545474]), array([ 1.16994485])),\n",
       "  (array([-1.40377843]), array([ 1.16623379])),\n",
       "  (array([-1.39267038]), array([ 1.16270398])),\n",
       "  (array([-1.38209058]), array([ 1.15934276])),\n",
       "  (array([-1.37200268]), array([ 1.15613858])),\n",
       "  (array([-1.36237358]), array([ 1.15308097])),\n",
       "  (array([-1.35317309]), array([ 1.15016032])),\n",
       "  (array([-1.34437359]), array([ 1.14736789])),\n",
       "  (array([-1.3359498]), array([ 1.14469563])),\n",
       "  (array([-1.3278785]), array([ 1.14213616])),\n",
       "  (array([-1.32013835]), array([ 1.1396827])),\n",
       "  (array([-1.31270969]), array([ 1.13732899])),\n",
       "  (array([-1.30557437]), array([ 1.13506926])),\n",
       "  (array([-1.29871565]), array([ 1.13289817])),\n",
       "  (array([-1.29211802]), array([ 1.13081078])),\n",
       "  (array([-1.28576709]), array([ 1.12880251])),\n",
       "  (array([-1.27964952]), array([ 1.1268691])),\n",
       "  (array([-1.27375293]), array([ 1.1250066])),\n",
       "  (array([-1.26806576]), array([ 1.12321131])),\n",
       "  (array([-1.26257727]), array([ 1.12147981])),\n",
       "  (array([-1.25727742]), array([ 1.11980889])),\n",
       "  (array([-1.25215685]), array([ 1.11819556])),\n",
       "  (array([-1.24720679]), array([ 1.116637])),\n",
       "  (array([-1.24241904]), array([ 1.1151306])),\n",
       "  (array([-1.23778592]), array([ 1.1136739])),\n",
       "  (array([-1.23330022]), array([ 1.11226458])),\n",
       "  (array([-1.22895516]), array([ 1.11090048])),\n",
       "  (array([-1.22474439]), array([ 1.10957955])),\n",
       "  (array([-1.22066191]), array([ 1.10829987])),\n",
       "  (array([-1.21670208]), array([ 1.10705964])),\n",
       "  (array([-1.21285959]), array([ 1.10585715])),\n",
       "  (array([-1.20912943]), array([ 1.10469079])),\n",
       "  (array([-1.20550687]), array([ 1.10355904])),\n",
       "  (array([-1.20198743]), array([ 1.10246045])),\n",
       "  (array([-1.19856687]), array([ 1.10139368])),\n",
       "  (array([-1.19524121]), array([ 1.10035743])),\n",
       "  (array([-1.19200665]), array([ 1.09935048])),\n",
       "  (array([-1.1888596]), array([ 1.09837168])),\n",
       "  (array([-1.18579664]), array([ 1.09741993])),\n",
       "  (array([-1.18281455]), array([ 1.09649419])),\n",
       "  (array([-1.17991025]), array([ 1.09559346])),\n",
       "  (array([-1.17708083]), array([ 1.09471682])),\n",
       "  (array([-1.17432351]), array([ 1.09386335])),\n",
       "  (array([-1.17163565]), array([ 1.09303222])),\n",
       "  (array([-1.16901473]), array([ 1.09222261])),\n",
       "  (array([-1.16645837]), array([ 1.09143374])),\n",
       "  (array([-1.16396427]), array([ 1.09066489])),\n",
       "  (array([-1.16153026]), array([ 1.08991534])),\n",
       "  (array([-1.15915425]), array([ 1.08918442])),\n",
       "  (array([-1.15683428]), array([ 1.0884715])),\n",
       "  (array([-1.15456844]), array([ 1.08777597])),\n",
       "  (array([-1.15235491]), array([ 1.08709723]))],\n",
       " [array([ 83.50433262]),\n",
       "  array([ 74.3582308]),\n",
       "  array([ 70.05871739]),\n",
       "  array([ 67.87061484]),\n",
       "  array([ 66.50876648]),\n",
       "  array([ 65.46748749]),\n",
       "  array([ 64.55834865]),\n",
       "  array([ 63.71158635]),\n",
       "  array([ 62.90105174]),\n",
       "  array([ 62.11666545]),\n",
       "  array([ 61.35431022]),\n",
       "  array([ 60.61209797]),\n",
       "  array([ 59.88898192]),\n",
       "  array([ 59.18423815]),\n",
       "  array([ 58.49727122]),\n",
       "  array([ 57.82754129]),\n",
       "  array([ 57.17453681]),\n",
       "  array([ 56.53776433]),\n",
       "  array([ 55.91674481]),\n",
       "  array([ 55.31101219]),\n",
       "  array([ 54.72011291]),\n",
       "  array([ 54.14360577]),\n",
       "  array([ 53.58106175]),\n",
       "  array([ 53.03206393]),\n",
       "  array([ 52.49620738]),\n",
       "  array([ 51.97309903]),\n",
       "  array([ 51.46235748]),\n",
       "  array([ 50.96361282]),\n",
       "  array([ 50.47650645]),\n",
       "  array([ 50.00069083]),\n",
       "  array([ 49.53582928]),\n",
       "  array([ 49.08159571]),\n",
       "  array([ 48.63767439]),\n",
       "  array([ 48.20375966]),\n",
       "  array([ 47.77955573]),\n",
       "  array([ 47.36477635]),\n",
       "  array([ 46.9591446]),\n",
       "  array([ 46.56239258]),\n",
       "  array([ 46.17426116]),\n",
       "  array([ 45.79449975]),\n",
       "  array([ 45.42286597]),\n",
       "  array([ 45.05912547]),\n",
       "  array([ 44.70305162]),\n",
       "  array([ 44.35442528]),\n",
       "  array([ 44.01303457]),\n",
       "  array([ 43.67867459]),\n",
       "  array([ 43.35114725]),\n",
       "  array([ 43.03026097]),\n",
       "  array([ 42.71583052]),\n",
       "  array([ 42.40767675]),\n",
       "  array([ 42.10562643]),\n",
       "  array([ 41.80951202]),\n",
       "  array([ 41.51917145]),\n",
       "  array([ 41.23444798]),\n",
       "  array([ 40.95518997]),\n",
       "  array([ 40.68125071]),\n",
       "  array([ 40.41248827]),\n",
       "  array([ 40.14876531]),\n",
       "  array([ 39.88994889]),\n",
       "  array([ 39.63591038]),\n",
       "  array([ 39.38652526]),\n",
       "  array([ 39.14167297]),\n",
       "  array([ 38.90123679]),\n",
       "  array([ 38.66510371]),\n",
       "  array([ 38.43316426]),\n",
       "  array([ 38.20531244]),\n",
       "  array([ 37.98144555]),\n",
       "  array([ 37.76146408]),\n",
       "  array([ 37.54527162]),\n",
       "  array([ 37.33277474]),\n",
       "  array([ 37.12388287]),\n",
       "  array([ 36.91850822]),\n",
       "  array([ 36.71656566]),\n",
       "  array([ 36.51797266]),\n",
       "  array([ 36.32264918]),\n",
       "  array([ 36.13051756]),\n",
       "  array([ 35.94150247]),\n",
       "  array([ 35.75553084]),\n",
       "  array([ 35.57253174]),\n",
       "  array([ 35.39243633]),\n",
       "  array([ 35.21517779]),\n",
       "  array([ 35.04069125]),\n",
       "  array([ 34.86891371]),\n",
       "  array([ 34.699784]),\n",
       "  array([ 34.53324269]),\n",
       "  array([ 34.36923207]),\n",
       "  array([ 34.20769605]),\n",
       "  array([ 34.04858013]),\n",
       "  array([ 33.89183133]),\n",
       "  array([ 33.73739817]),\n",
       "  array([ 33.5852306]),\n",
       "  array([ 33.43527994]),\n",
       "  array([ 33.28749885]),\n",
       "  array([ 33.1418413]),\n",
       "  array([ 32.99826251]),\n",
       "  array([ 32.8567189]),\n",
       "  array([ 32.71716808]),\n",
       "  array([ 32.57956879]),\n",
       "  array([ 32.44388085]),\n",
       "  array([ 32.31006518])])"
      ]
     },
     "execution_count": 39,
     "metadata": {},
     "output_type": "execute_result"
    }
   ],
   "source": [
    "trainLR(X, y, learn_rate = 0.01, num_epochs = 100)"
   ]
  },
  {
   "cell_type": "markdown",
   "metadata": {},
   "source": [
    "## Understanding the code below"
   ]
  },
  {
   "cell_type": "code",
   "execution_count": 9,
   "metadata": {},
   "outputs": [
    {
     "name": "stdout",
     "output_type": "stream",
     "text": [
      "0.0084492 1.0 -0.063669 1.0\n"
     ]
    }
   ],
   "source": [
    "x_min, x_max = min(X.T[0]), max(X.T[0])\n",
    "y_min, y_max = min(X.T[1]), max(X.T[1])\n",
    "print(x_min, x_max, y_min, y_max)"
   ]
  },
  {
   "cell_type": "code",
   "execution_count": 13,
   "metadata": {},
   "outputs": [
    {
     "name": "stdout",
     "output_type": "stream",
     "text": [
      "[[ 0.55758717]\n",
      " [-0.92963451]]\n",
      "\n",
      "-0.690156209521\n"
     ]
    }
   ],
   "source": [
    "# Initialize the weights randomly\n",
    "W = np.array(np.random.rand(2,1))*2 -1\n",
    "b = np.random.rand(1)[0]*2 - 1\n",
    "print(W)\n",
    "print()\n",
    "print(b)"
   ]
  },
  {
   "cell_type": "code",
   "execution_count": 14,
   "metadata": {
    "collapsed": true
   },
   "outputs": [],
   "source": [
    "boundary_lines = []\n",
    "errors = []"
   ]
  },
  {
   "cell_type": "code",
   "execution_count": 17,
   "metadata": {
    "collapsed": true
   },
   "outputs": [],
   "source": [
    "#for i in range(100):\n",
    "    #print(i)\n",
    "epochs = 0    "
   ]
  },
  {
   "cell_type": "code",
   "execution_count": 24,
   "metadata": {
    "collapsed": true
   },
   "outputs": [],
   "source": [
    "def dErrors(X):\n",
    "    DErrorsDx1 = [-X[i] for i in range(len(y))]\n",
    "    return DErrorsDx1"
   ]
  },
  {
   "cell_type": "code",
   "execution_count": 41,
   "metadata": {},
   "outputs": [
    {
     "data": {
      "text/plain": [
       "array([[ 0.45121447],\n",
       "       [ 0.3098967 ],\n",
       "       [ 0.34766015],\n",
       "       [ 0.28512086],\n",
       "       [ 0.32432335],\n",
       "       [ 0.34623058],\n",
       "       [ 0.30037313],\n",
       "       [ 0.32403545],\n",
       "       [ 0.28850812],\n",
       "       [ 0.31180556],\n",
       "       [ 0.30737621],\n",
       "       [ 0.28227187],\n",
       "       [ 0.28021085],\n",
       "       [ 0.30789433],\n",
       "       [ 0.29709056],\n",
       "       [ 0.34484475],\n",
       "       [ 0.35133883],\n",
       "       [ 0.32210634],\n",
       "       [ 0.29279124],\n",
       "       [ 0.29503922],\n",
       "       [ 0.30208816],\n",
       "       [ 0.27124544],\n",
       "       [ 0.30252845],\n",
       "       [ 0.28252598],\n",
       "       [ 0.34362474],\n",
       "       [ 0.23655667],\n",
       "       [ 0.24249889],\n",
       "       [ 0.2980463 ],\n",
       "       [ 0.3643034 ],\n",
       "       [ 0.34147619],\n",
       "       [ 0.28409274],\n",
       "       [ 0.37795294],\n",
       "       [ 0.25269645],\n",
       "       [ 0.27891902],\n",
       "       [ 0.29531222],\n",
       "       [ 0.30253161],\n",
       "       [ 0.32108911],\n",
       "       [ 0.28759081],\n",
       "       [ 0.33300149],\n",
       "       [ 0.34025744],\n",
       "       [ 0.30067175],\n",
       "       [ 0.27284032],\n",
       "       [ 0.34920882],\n",
       "       [ 0.2634655 ],\n",
       "       [ 0.33415029],\n",
       "       [ 0.30860554],\n",
       "       [ 0.30089862],\n",
       "       [ 0.26579932],\n",
       "       [ 0.32437112],\n",
       "       [ 0.31754036],\n",
       "       [ 0.21227311],\n",
       "       [ 0.27018579],\n",
       "       [ 0.30366619],\n",
       "       [ 0.23897945],\n",
       "       [ 0.31893623],\n",
       "       [ 0.30013233],\n",
       "       [ 0.26176141],\n",
       "       [ 0.26127481],\n",
       "       [ 0.3117762 ],\n",
       "       [ 0.26802845],\n",
       "       [ 0.2851762 ],\n",
       "       [ 0.28091996],\n",
       "       [ 0.29361951],\n",
       "       [ 0.27012894],\n",
       "       [ 0.3153155 ],\n",
       "       [ 0.26848053],\n",
       "       [ 0.28213895],\n",
       "       [ 0.2813881 ],\n",
       "       [ 0.35836297],\n",
       "       [ 0.27680423],\n",
       "       [ 0.23245289],\n",
       "       [ 0.29519984],\n",
       "       [ 0.23580195],\n",
       "       [ 0.28048657],\n",
       "       [ 0.29764225],\n",
       "       [ 0.29964546],\n",
       "       [ 0.30985971],\n",
       "       [ 0.25131823],\n",
       "       [ 0.31627497],\n",
       "       [ 0.26366745],\n",
       "       [ 0.25698901],\n",
       "       [ 0.27135193],\n",
       "       [ 0.27231164],\n",
       "       [ 0.27982855],\n",
       "       [ 0.29607418],\n",
       "       [ 0.28090229],\n",
       "       [ 0.2975038 ],\n",
       "       [ 0.24620956],\n",
       "       [ 0.29643579],\n",
       "       [ 0.25401934],\n",
       "       [ 0.23009141],\n",
       "       [ 0.29336755],\n",
       "       [ 0.30477853],\n",
       "       [ 0.23692239],\n",
       "       [ 0.27387795],\n",
       "       [ 0.28644805],\n",
       "       [ 0.27897372],\n",
       "       [ 0.27272871],\n",
       "       [ 0.26619024],\n",
       "       [ 0.27280997]])"
      ]
     },
     "execution_count": 41,
     "metadata": {},
     "output_type": "execute_result"
    }
   ],
   "source": [
    "y_hat = prediction(X,W,b)\n",
    "y_hat"
   ]
  },
  {
   "cell_type": "code",
   "execution_count": 42,
   "metadata": {},
   "outputs": [
    {
     "data": {
      "text/plain": [
       "[array([ 0.79581251]),\n",
       " array([ 1.17151626]),\n",
       " array([ 1.05652984]),\n",
       " array([ 1.25484213]),\n",
       " array([ 1.12601426]),\n",
       " array([ 1.0606503]),\n",
       " array([ 1.2027298]),\n",
       " array([ 1.12690237]),\n",
       " array([ 1.24303205]),\n",
       " array([ 1.16537551]),\n",
       " array([ 1.17968283]),\n",
       " array([ 1.2648846]),\n",
       " array([ 1.27221293]),\n",
       " array([ 1.17799863]),\n",
       " array([ 1.21371827]),\n",
       " array([ 1.06466097]),\n",
       " array([ 1.04600418]),\n",
       " array([ 1.13287353]),\n",
       " array([ 1.22829543]),\n",
       " array([ 1.22064699]),\n",
       " array([ 1.19703638]),\n",
       " array([ 1.3047312]),\n",
       " array([ 1.19557997]),\n",
       " array([ 1.26398475]),\n",
       " array([ 1.0682051]),\n",
       " array([ 1.44156747]),\n",
       " array([ 1.41675813]),\n",
       " array([ 1.21050644]),\n",
       " array([ 1.00976824]),\n",
       " array([ 1.07447732]),\n",
       " array([ 1.25845454]),\n",
       " array([ 0.97298558]),\n",
       " array([ 1.37556632]),\n",
       " array([ 1.27683379]),\n",
       " array([ 1.2197221]),\n",
       " array([ 1.19556952]),\n",
       " array([ 1.13603659]),\n",
       " array([ 1.2462166]),\n",
       " array([ 1.09960831]),\n",
       " array([ 1.07805278]),\n",
       " array([ 1.20173615]),\n",
       " array([ 1.29886855]),\n",
       " array([ 1.05208519]),\n",
       " array([ 1.33383283]),\n",
       " array([ 1.09616443]),\n",
       " array([ 1.17569139]),\n",
       " array([ 1.20098189]),\n",
       " array([ 1.32501369]),\n",
       " array([ 1.12586698]),\n",
       " array([ 1.14715035]),\n",
       " array([ 0.23860384]),\n",
       " array([ 0.31496528]),\n",
       " array([ 0.36192613]),\n",
       " array([ 0.27309492]),\n",
       " array([ 0.38409934]),\n",
       " array([ 0.35686401]),\n",
       " array([ 0.30348822]),\n",
       " array([ 0.3028293]),\n",
       " array([ 0.3736412]),\n",
       " array([ 0.31201363]),\n",
       " array([ 0.3357192]),\n",
       " array([ 0.3297826]),\n",
       " array([ 0.34760125]),\n",
       " array([ 0.3148874]),\n",
       " array([ 0.37879712]),\n",
       " array([ 0.31263145]),\n",
       " array([ 0.33147925]),\n",
       " array([ 0.33043384]),\n",
       " array([ 0.4437325]),\n",
       " array([ 0.32407532]),\n",
       " array([ 0.26455542]),\n",
       " array([ 0.34984098]),\n",
       " array([ 0.2689283]),\n",
       " array([ 0.32918008]),\n",
       " array([ 0.3533124]),\n",
       " array([ 0.35616859]),\n",
       " array([ 0.37086039]),\n",
       " array([ 0.28944126]),\n",
       " array([ 0.38019944]),\n",
       " array([ 0.30607343]),\n",
       " array([ 0.29704444]),\n",
       " array([ 0.31656442]),\n",
       " array([ 0.31788241]),\n",
       " array([ 0.32826597]),\n",
       " array([ 0.35108229]),\n",
       " array([ 0.32975803]),\n",
       " array([ 0.35311529]),\n",
       " array([ 0.28264087]),\n",
       " array([ 0.35159614]),\n",
       " array([ 0.29305561]),\n",
       " array([ 0.26148348]),\n",
       " array([ 0.34724462]),\n",
       " array([ 0.36352483]),\n",
       " array([ 0.27039554]),\n",
       " array([ 0.32003717]),\n",
       " array([ 0.33750004]),\n",
       " array([ 0.3270797]),\n",
       " array([ 0.3184557]),\n",
       " array([ 0.30950546]),\n",
       " array([ 0.31856745])]"
      ]
     },
     "execution_count": 42,
     "metadata": {},
     "output_type": "execute_result"
    }
   ],
   "source": [
    "errors = error_vector(y, y_hat)\n",
    "errors"
   ]
  },
  {
   "cell_type": "code",
   "execution_count": null,
   "metadata": {
    "collapsed": true
   },
   "outputs": [],
   "source": []
  }
 ],
 "metadata": {
  "kernelspec": {
   "display_name": "Python 3",
   "language": "python",
   "name": "python3"
  },
  "language_info": {
   "codemirror_mode": {
    "name": "ipython",
    "version": 3
   },
   "file_extension": ".py",
   "mimetype": "text/x-python",
   "name": "python",
   "nbconvert_exporter": "python",
   "pygments_lexer": "ipython3",
   "version": "3.6.3"
  }
 },
 "nbformat": 4,
 "nbformat_minor": 2
}
